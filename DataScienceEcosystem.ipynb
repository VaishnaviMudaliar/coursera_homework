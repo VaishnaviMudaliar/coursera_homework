{
 "cells": [
  {
   "cell_type": "markdown",
   "id": "a091c754-070b-4e13-be1a-a7c54f2129f5",
   "metadata": {},
   "source": [
    "# Data Science Tools and Ecosystem"
   ]
  },
  {
   "cell_type": "markdown",
   "id": "5f4f9652-5611-4115-bc94-2dbe73ba723b",
   "metadata": {},
   "source": [
    "In this notebook, Data Science Tools and Ecosystem are summarized."
   ]
  },
  {
   "cell_type": "markdown",
   "id": "f58e9be2-614c-4ed8-826c-c0aac269a5cc",
   "metadata": {},
   "source": [
    "**Objectives :**\n",
    "* Popular Languages Used in Data Science\n",
    "* Common Libraries Used\n",
    "* Data Science Tools\n",
    "* Arithmetic Expressions"
   ]
  },
  {
   "cell_type": "markdown",
   "id": "24fa5376-ee0c-4674-892d-cffd562e2c09",
   "metadata": {},
   "source": [
    "Some of the popular languages that Data Scientists use are:\n",
    "1. Python\n",
    "2. R\n",
    "3. Julia"
   ]
  },
  {
   "cell_type": "markdown",
   "id": "e2fdb48c-7d76-4df7-bebd-57f91dc2fee5",
   "metadata": {},
   "source": [
    "Some of the commonly used libraries used by Data Scientists include:\n",
    "1. Matplotlib\n",
    "2. Seaborn\n",
    "3. Pandas\n",
    "4. Numpy\n",
    "5. Scipy\n",
    "6. Statistics\n",
    "7. Scikitlearn"
   ]
  },
  {
   "cell_type": "markdown",
   "id": "b3470156-7878-42b7-96a5-ef5436748fa4",
   "metadata": {
    "tags": []
   },
   "source": [
    "| Data Science Tools | \n",
    "| -------------| \n",
    "| Jupyter Notebook |\n",
    "| Tableau |\n",
    "| PowerBI |"
   ]
  },
  {
   "cell_type": "markdown",
   "id": "6d6e40ae-8c10-4549-8d47-3fea89e79a2f",
   "metadata": {},
   "source": [
    "### Below are a few examples of evaluating arithmetic expressions in Python"
   ]
  },
  {
   "cell_type": "code",
   "execution_count": 6,
   "id": "1c6c0f85-ec9e-4acf-8f72-6aa84226b86e",
   "metadata": {
    "tags": []
   },
   "outputs": [
    {
     "data": {
      "text/plain": [
       "17"
      ]
     },
     "execution_count": 6,
     "metadata": {},
     "output_type": "execute_result"
    }
   ],
   "source": [
    "# This a simple arithmetic expression to mutiply then add integers\n",
    "(3*4)+5"
   ]
  },
  {
   "cell_type": "code",
   "execution_count": 7,
   "id": "0e49f5ee-f89d-42e5-97bf-cdf651438ade",
   "metadata": {
    "tags": []
   },
   "outputs": [
    {
     "data": {
      "text/plain": [
       "3"
      ]
     },
     "execution_count": 7,
     "metadata": {},
     "output_type": "execute_result"
    }
   ],
   "source": [
    "# This will convert 200 minutes to hours by diving by 60\n",
    "200 // 60"
   ]
  },
  {
   "cell_type": "markdown",
   "id": "53c41ac5-cf47-4a7e-baf1-befdb6693078",
   "metadata": {},
   "source": [
    "## Author\n",
    "Vaishnavi Mudaliar"
   ]
  }
 ],
 "metadata": {
  "kernelspec": {
   "display_name": "Python",
   "language": "python",
   "name": "conda-env-python-py"
  },
  "language_info": {
   "codemirror_mode": {
    "name": "ipython",
    "version": 3
   },
   "file_extension": ".py",
   "mimetype": "text/x-python",
   "name": "python",
   "nbconvert_exporter": "python",
   "pygments_lexer": "ipython3",
   "version": "3.7.12"
  }
 },
 "nbformat": 4,
 "nbformat_minor": 5
}
